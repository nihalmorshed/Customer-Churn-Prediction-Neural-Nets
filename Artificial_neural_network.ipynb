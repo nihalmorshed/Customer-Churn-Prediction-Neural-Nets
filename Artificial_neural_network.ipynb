{
  "nbformat": 4,
  "nbformat_minor": 0,
  "metadata": {
    "colab": {
      "provenance": [],
      "gpuType": "T4"
    },
    "kernelspec": {
      "name": "python3",
      "display_name": "Python 3"
    },
    "accelerator": "GPU"
  },
  "cells": [
    {
      "cell_type": "markdown",
      "metadata": {
        "id": "lP6JLo1tGNBg"
      },
      "source": [
        "# Artificial Neural Network"
      ]
    },
    {
      "cell_type": "markdown",
      "metadata": {
        "id": "gWZyYmS_UE_L"
      },
      "source": [
        "### Importing the libraries"
      ]
    },
    {
      "cell_type": "code",
      "metadata": {
        "id": "MxkJoQBkUIHC"
      },
      "source": [
        "import numpy as np\n",
        "import pandas as pd\n",
        "import tensorflow as tf"
      ],
      "execution_count": 41,
      "outputs": []
    },
    {
      "cell_type": "code",
      "source": [
        "tf.__version__\n"
      ],
      "metadata": {
        "colab": {
          "base_uri": "https://localhost:8080/",
          "height": 36
        },
        "id": "ONCkVsBdbuOv",
        "outputId": "001a8517-dfd4-4a86-fc2c-56ad3973a00e"
      },
      "execution_count": 42,
      "outputs": [
        {
          "output_type": "execute_result",
          "data": {
            "text/plain": [
              "'2.15.0'"
            ],
            "application/vnd.google.colaboratory.intrinsic+json": {
              "type": "string"
            }
          },
          "metadata": {},
          "execution_count": 42
        }
      ]
    },
    {
      "cell_type": "markdown",
      "metadata": {
        "id": "1E0Q3aoKUCRX"
      },
      "source": [
        "## Part 1 - Data Preprocessing"
      ]
    },
    {
      "cell_type": "markdown",
      "metadata": {
        "id": "cKWAkFVGUU0Z"
      },
      "source": [
        "### Importing the dataset"
      ]
    },
    {
      "cell_type": "code",
      "metadata": {
        "id": "MXUkhkMfU4wq",
        "colab": {
          "base_uri": "https://localhost:8080/",
          "height": 206
        },
        "outputId": "e684c27b-746f-4676-b82c-100ab9e4678c"
      },
      "source": [
        "data = pd.read_csv('Churn_Modelling.csv')\n",
        "data.head()"
      ],
      "execution_count": 43,
      "outputs": [
        {
          "output_type": "execute_result",
          "data": {
            "text/plain": [
              "   RowNumber  CustomerId   Surname  CreditScore Geography  Gender  Age  \\\n",
              "0          1    15634602  Hargrave          619    France  Female   42   \n",
              "1          2    15647311      Hill          608     Spain  Female   41   \n",
              "2          3    15619304      Onio          502    France  Female   42   \n",
              "3          4    15701354      Boni          699    France  Female   39   \n",
              "4          5    15737888  Mitchell          850     Spain  Female   43   \n",
              "\n",
              "   Tenure    Balance  NumOfProducts  HasCrCard  IsActiveMember  \\\n",
              "0       2       0.00              1          1               1   \n",
              "1       1   83807.86              1          0               1   \n",
              "2       8  159660.80              3          1               0   \n",
              "3       1       0.00              2          0               0   \n",
              "4       2  125510.82              1          1               1   \n",
              "\n",
              "   EstimatedSalary  Exited  \n",
              "0        101348.88       1  \n",
              "1        112542.58       0  \n",
              "2        113931.57       1  \n",
              "3         93826.63       0  \n",
              "4         79084.10       0  "
            ],
            "text/html": [
              "\n",
              "  <div id=\"df-39d52be9-8dce-420d-ae84-7ffbeb2d0e1c\" class=\"colab-df-container\">\n",
              "    <div>\n",
              "<style scoped>\n",
              "    .dataframe tbody tr th:only-of-type {\n",
              "        vertical-align: middle;\n",
              "    }\n",
              "\n",
              "    .dataframe tbody tr th {\n",
              "        vertical-align: top;\n",
              "    }\n",
              "\n",
              "    .dataframe thead th {\n",
              "        text-align: right;\n",
              "    }\n",
              "</style>\n",
              "<table border=\"1\" class=\"dataframe\">\n",
              "  <thead>\n",
              "    <tr style=\"text-align: right;\">\n",
              "      <th></th>\n",
              "      <th>RowNumber</th>\n",
              "      <th>CustomerId</th>\n",
              "      <th>Surname</th>\n",
              "      <th>CreditScore</th>\n",
              "      <th>Geography</th>\n",
              "      <th>Gender</th>\n",
              "      <th>Age</th>\n",
              "      <th>Tenure</th>\n",
              "      <th>Balance</th>\n",
              "      <th>NumOfProducts</th>\n",
              "      <th>HasCrCard</th>\n",
              "      <th>IsActiveMember</th>\n",
              "      <th>EstimatedSalary</th>\n",
              "      <th>Exited</th>\n",
              "    </tr>\n",
              "  </thead>\n",
              "  <tbody>\n",
              "    <tr>\n",
              "      <th>0</th>\n",
              "      <td>1</td>\n",
              "      <td>15634602</td>\n",
              "      <td>Hargrave</td>\n",
              "      <td>619</td>\n",
              "      <td>France</td>\n",
              "      <td>Female</td>\n",
              "      <td>42</td>\n",
              "      <td>2</td>\n",
              "      <td>0.00</td>\n",
              "      <td>1</td>\n",
              "      <td>1</td>\n",
              "      <td>1</td>\n",
              "      <td>101348.88</td>\n",
              "      <td>1</td>\n",
              "    </tr>\n",
              "    <tr>\n",
              "      <th>1</th>\n",
              "      <td>2</td>\n",
              "      <td>15647311</td>\n",
              "      <td>Hill</td>\n",
              "      <td>608</td>\n",
              "      <td>Spain</td>\n",
              "      <td>Female</td>\n",
              "      <td>41</td>\n",
              "      <td>1</td>\n",
              "      <td>83807.86</td>\n",
              "      <td>1</td>\n",
              "      <td>0</td>\n",
              "      <td>1</td>\n",
              "      <td>112542.58</td>\n",
              "      <td>0</td>\n",
              "    </tr>\n",
              "    <tr>\n",
              "      <th>2</th>\n",
              "      <td>3</td>\n",
              "      <td>15619304</td>\n",
              "      <td>Onio</td>\n",
              "      <td>502</td>\n",
              "      <td>France</td>\n",
              "      <td>Female</td>\n",
              "      <td>42</td>\n",
              "      <td>8</td>\n",
              "      <td>159660.80</td>\n",
              "      <td>3</td>\n",
              "      <td>1</td>\n",
              "      <td>0</td>\n",
              "      <td>113931.57</td>\n",
              "      <td>1</td>\n",
              "    </tr>\n",
              "    <tr>\n",
              "      <th>3</th>\n",
              "      <td>4</td>\n",
              "      <td>15701354</td>\n",
              "      <td>Boni</td>\n",
              "      <td>699</td>\n",
              "      <td>France</td>\n",
              "      <td>Female</td>\n",
              "      <td>39</td>\n",
              "      <td>1</td>\n",
              "      <td>0.00</td>\n",
              "      <td>2</td>\n",
              "      <td>0</td>\n",
              "      <td>0</td>\n",
              "      <td>93826.63</td>\n",
              "      <td>0</td>\n",
              "    </tr>\n",
              "    <tr>\n",
              "      <th>4</th>\n",
              "      <td>5</td>\n",
              "      <td>15737888</td>\n",
              "      <td>Mitchell</td>\n",
              "      <td>850</td>\n",
              "      <td>Spain</td>\n",
              "      <td>Female</td>\n",
              "      <td>43</td>\n",
              "      <td>2</td>\n",
              "      <td>125510.82</td>\n",
              "      <td>1</td>\n",
              "      <td>1</td>\n",
              "      <td>1</td>\n",
              "      <td>79084.10</td>\n",
              "      <td>0</td>\n",
              "    </tr>\n",
              "  </tbody>\n",
              "</table>\n",
              "</div>\n",
              "    <div class=\"colab-df-buttons\">\n",
              "\n",
              "  <div class=\"colab-df-container\">\n",
              "    <button class=\"colab-df-convert\" onclick=\"convertToInteractive('df-39d52be9-8dce-420d-ae84-7ffbeb2d0e1c')\"\n",
              "            title=\"Convert this dataframe to an interactive table.\"\n",
              "            style=\"display:none;\">\n",
              "\n",
              "  <svg xmlns=\"http://www.w3.org/2000/svg\" height=\"24px\" viewBox=\"0 -960 960 960\">\n",
              "    <path d=\"M120-120v-720h720v720H120Zm60-500h600v-160H180v160Zm220 220h160v-160H400v160Zm0 220h160v-160H400v160ZM180-400h160v-160H180v160Zm440 0h160v-160H620v160ZM180-180h160v-160H180v160Zm440 0h160v-160H620v160Z\"/>\n",
              "  </svg>\n",
              "    </button>\n",
              "\n",
              "  <style>\n",
              "    .colab-df-container {\n",
              "      display:flex;\n",
              "      gap: 12px;\n",
              "    }\n",
              "\n",
              "    .colab-df-convert {\n",
              "      background-color: #E8F0FE;\n",
              "      border: none;\n",
              "      border-radius: 50%;\n",
              "      cursor: pointer;\n",
              "      display: none;\n",
              "      fill: #1967D2;\n",
              "      height: 32px;\n",
              "      padding: 0 0 0 0;\n",
              "      width: 32px;\n",
              "    }\n",
              "\n",
              "    .colab-df-convert:hover {\n",
              "      background-color: #E2EBFA;\n",
              "      box-shadow: 0px 1px 2px rgba(60, 64, 67, 0.3), 0px 1px 3px 1px rgba(60, 64, 67, 0.15);\n",
              "      fill: #174EA6;\n",
              "    }\n",
              "\n",
              "    .colab-df-buttons div {\n",
              "      margin-bottom: 4px;\n",
              "    }\n",
              "\n",
              "    [theme=dark] .colab-df-convert {\n",
              "      background-color: #3B4455;\n",
              "      fill: #D2E3FC;\n",
              "    }\n",
              "\n",
              "    [theme=dark] .colab-df-convert:hover {\n",
              "      background-color: #434B5C;\n",
              "      box-shadow: 0px 1px 3px 1px rgba(0, 0, 0, 0.15);\n",
              "      filter: drop-shadow(0px 1px 2px rgba(0, 0, 0, 0.3));\n",
              "      fill: #FFFFFF;\n",
              "    }\n",
              "  </style>\n",
              "\n",
              "    <script>\n",
              "      const buttonEl =\n",
              "        document.querySelector('#df-39d52be9-8dce-420d-ae84-7ffbeb2d0e1c button.colab-df-convert');\n",
              "      buttonEl.style.display =\n",
              "        google.colab.kernel.accessAllowed ? 'block' : 'none';\n",
              "\n",
              "      async function convertToInteractive(key) {\n",
              "        const element = document.querySelector('#df-39d52be9-8dce-420d-ae84-7ffbeb2d0e1c');\n",
              "        const dataTable =\n",
              "          await google.colab.kernel.invokeFunction('convertToInteractive',\n",
              "                                                    [key], {});\n",
              "        if (!dataTable) return;\n",
              "\n",
              "        const docLinkHtml = 'Like what you see? Visit the ' +\n",
              "          '<a target=\"_blank\" href=https://colab.research.google.com/notebooks/data_table.ipynb>data table notebook</a>'\n",
              "          + ' to learn more about interactive tables.';\n",
              "        element.innerHTML = '';\n",
              "        dataTable['output_type'] = 'display_data';\n",
              "        await google.colab.output.renderOutput(dataTable, element);\n",
              "        const docLink = document.createElement('div');\n",
              "        docLink.innerHTML = docLinkHtml;\n",
              "        element.appendChild(docLink);\n",
              "      }\n",
              "    </script>\n",
              "  </div>\n",
              "\n",
              "\n",
              "<div id=\"df-20c82251-57d1-492a-86b4-43a020b60b6f\">\n",
              "  <button class=\"colab-df-quickchart\" onclick=\"quickchart('df-20c82251-57d1-492a-86b4-43a020b60b6f')\"\n",
              "            title=\"Suggest charts\"\n",
              "            style=\"display:none;\">\n",
              "\n",
              "<svg xmlns=\"http://www.w3.org/2000/svg\" height=\"24px\"viewBox=\"0 0 24 24\"\n",
              "     width=\"24px\">\n",
              "    <g>\n",
              "        <path d=\"M19 3H5c-1.1 0-2 .9-2 2v14c0 1.1.9 2 2 2h14c1.1 0 2-.9 2-2V5c0-1.1-.9-2-2-2zM9 17H7v-7h2v7zm4 0h-2V7h2v10zm4 0h-2v-4h2v4z\"/>\n",
              "    </g>\n",
              "</svg>\n",
              "  </button>\n",
              "\n",
              "<style>\n",
              "  .colab-df-quickchart {\n",
              "      --bg-color: #E8F0FE;\n",
              "      --fill-color: #1967D2;\n",
              "      --hover-bg-color: #E2EBFA;\n",
              "      --hover-fill-color: #174EA6;\n",
              "      --disabled-fill-color: #AAA;\n",
              "      --disabled-bg-color: #DDD;\n",
              "  }\n",
              "\n",
              "  [theme=dark] .colab-df-quickchart {\n",
              "      --bg-color: #3B4455;\n",
              "      --fill-color: #D2E3FC;\n",
              "      --hover-bg-color: #434B5C;\n",
              "      --hover-fill-color: #FFFFFF;\n",
              "      --disabled-bg-color: #3B4455;\n",
              "      --disabled-fill-color: #666;\n",
              "  }\n",
              "\n",
              "  .colab-df-quickchart {\n",
              "    background-color: var(--bg-color);\n",
              "    border: none;\n",
              "    border-radius: 50%;\n",
              "    cursor: pointer;\n",
              "    display: none;\n",
              "    fill: var(--fill-color);\n",
              "    height: 32px;\n",
              "    padding: 0;\n",
              "    width: 32px;\n",
              "  }\n",
              "\n",
              "  .colab-df-quickchart:hover {\n",
              "    background-color: var(--hover-bg-color);\n",
              "    box-shadow: 0 1px 2px rgba(60, 64, 67, 0.3), 0 1px 3px 1px rgba(60, 64, 67, 0.15);\n",
              "    fill: var(--button-hover-fill-color);\n",
              "  }\n",
              "\n",
              "  .colab-df-quickchart-complete:disabled,\n",
              "  .colab-df-quickchart-complete:disabled:hover {\n",
              "    background-color: var(--disabled-bg-color);\n",
              "    fill: var(--disabled-fill-color);\n",
              "    box-shadow: none;\n",
              "  }\n",
              "\n",
              "  .colab-df-spinner {\n",
              "    border: 2px solid var(--fill-color);\n",
              "    border-color: transparent;\n",
              "    border-bottom-color: var(--fill-color);\n",
              "    animation:\n",
              "      spin 1s steps(1) infinite;\n",
              "  }\n",
              "\n",
              "  @keyframes spin {\n",
              "    0% {\n",
              "      border-color: transparent;\n",
              "      border-bottom-color: var(--fill-color);\n",
              "      border-left-color: var(--fill-color);\n",
              "    }\n",
              "    20% {\n",
              "      border-color: transparent;\n",
              "      border-left-color: var(--fill-color);\n",
              "      border-top-color: var(--fill-color);\n",
              "    }\n",
              "    30% {\n",
              "      border-color: transparent;\n",
              "      border-left-color: var(--fill-color);\n",
              "      border-top-color: var(--fill-color);\n",
              "      border-right-color: var(--fill-color);\n",
              "    }\n",
              "    40% {\n",
              "      border-color: transparent;\n",
              "      border-right-color: var(--fill-color);\n",
              "      border-top-color: var(--fill-color);\n",
              "    }\n",
              "    60% {\n",
              "      border-color: transparent;\n",
              "      border-right-color: var(--fill-color);\n",
              "    }\n",
              "    80% {\n",
              "      border-color: transparent;\n",
              "      border-right-color: var(--fill-color);\n",
              "      border-bottom-color: var(--fill-color);\n",
              "    }\n",
              "    90% {\n",
              "      border-color: transparent;\n",
              "      border-bottom-color: var(--fill-color);\n",
              "    }\n",
              "  }\n",
              "</style>\n",
              "\n",
              "  <script>\n",
              "    async function quickchart(key) {\n",
              "      const quickchartButtonEl =\n",
              "        document.querySelector('#' + key + ' button');\n",
              "      quickchartButtonEl.disabled = true;  // To prevent multiple clicks.\n",
              "      quickchartButtonEl.classList.add('colab-df-spinner');\n",
              "      try {\n",
              "        const charts = await google.colab.kernel.invokeFunction(\n",
              "            'suggestCharts', [key], {});\n",
              "      } catch (error) {\n",
              "        console.error('Error during call to suggestCharts:', error);\n",
              "      }\n",
              "      quickchartButtonEl.classList.remove('colab-df-spinner');\n",
              "      quickchartButtonEl.classList.add('colab-df-quickchart-complete');\n",
              "    }\n",
              "    (() => {\n",
              "      let quickchartButtonEl =\n",
              "        document.querySelector('#df-20c82251-57d1-492a-86b4-43a020b60b6f button');\n",
              "      quickchartButtonEl.style.display =\n",
              "        google.colab.kernel.accessAllowed ? 'block' : 'none';\n",
              "    })();\n",
              "  </script>\n",
              "</div>\n",
              "\n",
              "    </div>\n",
              "  </div>\n"
            ],
            "application/vnd.google.colaboratory.intrinsic+json": {
              "type": "dataframe",
              "variable_name": "data",
              "summary": "{\n  \"name\": \"data\",\n  \"rows\": 10000,\n  \"fields\": [\n    {\n      \"column\": \"RowNumber\",\n      \"properties\": {\n        \"dtype\": \"number\",\n        \"std\": 2886,\n        \"min\": 1,\n        \"max\": 10000,\n        \"num_unique_values\": 10000,\n        \"samples\": [\n          6253,\n          4685,\n          1732\n        ],\n        \"semantic_type\": \"\",\n        \"description\": \"\"\n      }\n    },\n    {\n      \"column\": \"CustomerId\",\n      \"properties\": {\n        \"dtype\": \"number\",\n        \"std\": 71936,\n        \"min\": 15565701,\n        \"max\": 15815690,\n        \"num_unique_values\": 10000,\n        \"samples\": [\n          15687492,\n          15736963,\n          15721730\n        ],\n        \"semantic_type\": \"\",\n        \"description\": \"\"\n      }\n    },\n    {\n      \"column\": \"Surname\",\n      \"properties\": {\n        \"dtype\": \"category\",\n        \"num_unique_values\": 2932,\n        \"samples\": [\n          \"McGuirk\",\n          \"Torkelson\",\n          \"Rapuluchukwu\"\n        ],\n        \"semantic_type\": \"\",\n        \"description\": \"\"\n      }\n    },\n    {\n      \"column\": \"CreditScore\",\n      \"properties\": {\n        \"dtype\": \"number\",\n        \"std\": 96,\n        \"min\": 350,\n        \"max\": 850,\n        \"num_unique_values\": 460,\n        \"samples\": [\n          754,\n          533,\n          744\n        ],\n        \"semantic_type\": \"\",\n        \"description\": \"\"\n      }\n    },\n    {\n      \"column\": \"Geography\",\n      \"properties\": {\n        \"dtype\": \"category\",\n        \"num_unique_values\": 3,\n        \"samples\": [\n          \"France\",\n          \"Spain\",\n          \"Germany\"\n        ],\n        \"semantic_type\": \"\",\n        \"description\": \"\"\n      }\n    },\n    {\n      \"column\": \"Gender\",\n      \"properties\": {\n        \"dtype\": \"category\",\n        \"num_unique_values\": 2,\n        \"samples\": [\n          \"Male\",\n          \"Female\"\n        ],\n        \"semantic_type\": \"\",\n        \"description\": \"\"\n      }\n    },\n    {\n      \"column\": \"Age\",\n      \"properties\": {\n        \"dtype\": \"number\",\n        \"std\": 10,\n        \"min\": 18,\n        \"max\": 92,\n        \"num_unique_values\": 70,\n        \"samples\": [\n          61,\n          42\n        ],\n        \"semantic_type\": \"\",\n        \"description\": \"\"\n      }\n    },\n    {\n      \"column\": \"Tenure\",\n      \"properties\": {\n        \"dtype\": \"number\",\n        \"std\": 2,\n        \"min\": 0,\n        \"max\": 10,\n        \"num_unique_values\": 11,\n        \"samples\": [\n          6,\n          2\n        ],\n        \"semantic_type\": \"\",\n        \"description\": \"\"\n      }\n    },\n    {\n      \"column\": \"Balance\",\n      \"properties\": {\n        \"dtype\": \"number\",\n        \"std\": 62397.405202385955,\n        \"min\": 0.0,\n        \"max\": 250898.09,\n        \"num_unique_values\": 6382,\n        \"samples\": [\n          117707.18,\n          133050.97\n        ],\n        \"semantic_type\": \"\",\n        \"description\": \"\"\n      }\n    },\n    {\n      \"column\": \"NumOfProducts\",\n      \"properties\": {\n        \"dtype\": \"number\",\n        \"std\": 0,\n        \"min\": 1,\n        \"max\": 4,\n        \"num_unique_values\": 4,\n        \"samples\": [\n          3,\n          4\n        ],\n        \"semantic_type\": \"\",\n        \"description\": \"\"\n      }\n    },\n    {\n      \"column\": \"HasCrCard\",\n      \"properties\": {\n        \"dtype\": \"number\",\n        \"std\": 0,\n        \"min\": 0,\n        \"max\": 1,\n        \"num_unique_values\": 2,\n        \"samples\": [\n          0,\n          1\n        ],\n        \"semantic_type\": \"\",\n        \"description\": \"\"\n      }\n    },\n    {\n      \"column\": \"IsActiveMember\",\n      \"properties\": {\n        \"dtype\": \"number\",\n        \"std\": 0,\n        \"min\": 0,\n        \"max\": 1,\n        \"num_unique_values\": 2,\n        \"samples\": [\n          0,\n          1\n        ],\n        \"semantic_type\": \"\",\n        \"description\": \"\"\n      }\n    },\n    {\n      \"column\": \"EstimatedSalary\",\n      \"properties\": {\n        \"dtype\": \"number\",\n        \"std\": 57510.49281769816,\n        \"min\": 11.58,\n        \"max\": 199992.48,\n        \"num_unique_values\": 9999,\n        \"samples\": [\n          100809.99,\n          95273.73\n        ],\n        \"semantic_type\": \"\",\n        \"description\": \"\"\n      }\n    },\n    {\n      \"column\": \"Exited\",\n      \"properties\": {\n        \"dtype\": \"number\",\n        \"std\": 0,\n        \"min\": 0,\n        \"max\": 1,\n        \"num_unique_values\": 2,\n        \"samples\": [\n          0,\n          1\n        ],\n        \"semantic_type\": \"\",\n        \"description\": \"\"\n      }\n    }\n  ]\n}"
            }
          },
          "metadata": {},
          "execution_count": 43
        }
      ]
    },
    {
      "cell_type": "code",
      "source": [
        "x = data.iloc[:, 3:-1].values\n",
        "y = data.iloc[:, -1].values"
      ],
      "metadata": {
        "id": "VVUk0Wp_bUTT"
      },
      "execution_count": 44,
      "outputs": []
    },
    {
      "cell_type": "code",
      "source": [
        "print(x)"
      ],
      "metadata": {
        "colab": {
          "base_uri": "https://localhost:8080/"
        },
        "id": "YeEs0nRwcRWn",
        "outputId": "aa77fa69-0a40-4e3f-c5f1-e4bda9adb9c4"
      },
      "execution_count": 45,
      "outputs": [
        {
          "output_type": "stream",
          "name": "stdout",
          "text": [
            "[[619 'France' 'Female' ... 1 1 101348.88]\n",
            " [608 'Spain' 'Female' ... 0 1 112542.58]\n",
            " [502 'France' 'Female' ... 1 0 113931.57]\n",
            " ...\n",
            " [709 'France' 'Female' ... 0 1 42085.58]\n",
            " [772 'Germany' 'Male' ... 1 0 92888.52]\n",
            " [792 'France' 'Female' ... 1 0 38190.78]]\n"
          ]
        }
      ]
    },
    {
      "cell_type": "code",
      "source": [
        "print(y)"
      ],
      "metadata": {
        "colab": {
          "base_uri": "https://localhost:8080/"
        },
        "id": "B4Nx28wfcSvJ",
        "outputId": "00078afb-29c4-4e1f-cc87-504bf9db20dc"
      },
      "execution_count": 46,
      "outputs": [
        {
          "output_type": "stream",
          "name": "stdout",
          "text": [
            "[1 0 1 ... 1 1 0]\n"
          ]
        }
      ]
    },
    {
      "cell_type": "markdown",
      "metadata": {
        "id": "N6bQ0UgSU-NJ"
      },
      "source": [
        "### Encoding categorical data"
      ]
    },
    {
      "cell_type": "markdown",
      "metadata": {
        "id": "le5MJreAbW52"
      },
      "source": [
        "Label Encoding the \"Gender\" column"
      ]
    },
    {
      "cell_type": "code",
      "source": [
        "from sklearn.preprocessing import LabelEncoder\n",
        "le = LabelEncoder()\n",
        "x[:, 2] = le.fit_transform(x[:, 2])"
      ],
      "metadata": {
        "id": "bdwfY_RQcbGj"
      },
      "execution_count": 47,
      "outputs": []
    },
    {
      "cell_type": "code",
      "source": [
        "print(x)"
      ],
      "metadata": {
        "colab": {
          "base_uri": "https://localhost:8080/"
        },
        "id": "SN3rhZ2GdLIR",
        "outputId": "554892e9-1690-4c5c-8f4d-7f05207ad52c"
      },
      "execution_count": 48,
      "outputs": [
        {
          "output_type": "stream",
          "name": "stdout",
          "text": [
            "[[619 'France' 0 ... 1 1 101348.88]\n",
            " [608 'Spain' 0 ... 0 1 112542.58]\n",
            " [502 'France' 0 ... 1 0 113931.57]\n",
            " ...\n",
            " [709 'France' 0 ... 0 1 42085.58]\n",
            " [772 'Germany' 1 ... 1 0 92888.52]\n",
            " [792 'France' 0 ... 1 0 38190.78]]\n"
          ]
        }
      ]
    },
    {
      "cell_type": "markdown",
      "metadata": {
        "id": "CUxGZezpbMcb"
      },
      "source": [
        "One Hot Encoding the \"Geography\" column"
      ]
    },
    {
      "cell_type": "code",
      "source": [
        "from sklearn.compose import ColumnTransformer\n",
        "from sklearn.preprocessing import OneHotEncoder\n",
        "ct = ColumnTransformer(transformers=[('encoder', OneHotEncoder(), [1])], remainder='passthrough')\n",
        "col = ct.fit_transform(x)\n",
        "x = np.array(col) # the fit_transformer() method don't return a numpy array. so we need to convert it to Numpy array.\n"
      ],
      "metadata": {
        "id": "9IIE7JnEdU6q"
      },
      "execution_count": 49,
      "outputs": []
    },
    {
      "cell_type": "code",
      "source": [
        "# prompt: write code to show which \"Geography\" Label inside the numpy array 'x' with the respective codes\n",
        "\n",
        "print(ct.named_transformers_['encoder'].categories_,ct.output_indices_ )\n"
      ],
      "metadata": {
        "colab": {
          "base_uri": "https://localhost:8080/"
        },
        "id": "wahzNsuI2tBw",
        "outputId": "014b10d2-11a1-41a9-8f52-f95653314cbf"
      },
      "execution_count": 81,
      "outputs": [
        {
          "output_type": "stream",
          "name": "stdout",
          "text": [
            "[array(['France', 'Germany', 'Spain'], dtype=object)] {'encoder': slice(0, 3, None), 'remainder': slice(3, 12, None)}\n"
          ]
        }
      ]
    },
    {
      "cell_type": "code",
      "source": [
        "print(x[0])"
      ],
      "metadata": {
        "colab": {
          "base_uri": "https://localhost:8080/"
        },
        "id": "98zFeJ4ldf_m",
        "outputId": "768d4790-343c-45e6-9577-eee91cc7d302"
      },
      "execution_count": 50,
      "outputs": [
        {
          "output_type": "stream",
          "name": "stdout",
          "text": [
            "[1.0 0.0 0.0 619 0 42 2 0.0 1 1 1 101348.88]\n"
          ]
        }
      ]
    },
    {
      "cell_type": "markdown",
      "metadata": {
        "id": "vHol938cW8zd"
      },
      "source": [
        "### Splitting the dataset into the Training set and Test set"
      ]
    },
    {
      "cell_type": "code",
      "source": [
        "from sklearn.model_selection import train_test_split\n",
        "x_train, x_test, y_train, y_test = train_test_split(x, y, test_size = 0.2, random_state = 0)\n"
      ],
      "metadata": {
        "id": "d3BXz9YWgws_"
      },
      "execution_count": 51,
      "outputs": []
    },
    {
      "cell_type": "code",
      "source": [
        "print(x_train)"
      ],
      "metadata": {
        "colab": {
          "base_uri": "https://localhost:8080/"
        },
        "id": "9V0RXJIph4-A",
        "outputId": "885bca1d-1f83-40f8-b138-abde4cfbe507"
      },
      "execution_count": 52,
      "outputs": [
        {
          "output_type": "stream",
          "name": "stdout",
          "text": [
            "[[0.0 0.0 1.0 ... 1 0 163830.64]\n",
            " [0.0 1.0 0.0 ... 1 1 57098.0]\n",
            " [1.0 0.0 0.0 ... 1 0 185630.76]\n",
            " ...\n",
            " [1.0 0.0 0.0 ... 1 0 181429.87]\n",
            " [0.0 0.0 1.0 ... 1 1 148750.16]\n",
            " [0.0 1.0 0.0 ... 1 0 118855.26]]\n"
          ]
        }
      ]
    },
    {
      "cell_type": "code",
      "source": [
        "print(x_test)"
      ],
      "metadata": {
        "colab": {
          "base_uri": "https://localhost:8080/"
        },
        "id": "D6_5T7fwh6rP",
        "outputId": "40872456-a8e7-4a10-bc51-6a9dbd8c9f11"
      },
      "execution_count": 53,
      "outputs": [
        {
          "output_type": "stream",
          "name": "stdout",
          "text": [
            "[[0.0 1.0 0.0 ... 1 1 192852.67]\n",
            " [1.0 0.0 0.0 ... 1 0 128702.1]\n",
            " [0.0 0.0 1.0 ... 1 1 75732.25]\n",
            " ...\n",
            " [0.0 0.0 1.0 ... 1 0 141533.19]\n",
            " [0.0 1.0 0.0 ... 1 1 11276.48]\n",
            " [0.0 1.0 0.0 ... 1 0 192950.6]]\n"
          ]
        }
      ]
    },
    {
      "cell_type": "markdown",
      "metadata": {
        "id": "RE_FcHyfV3TQ"
      },
      "source": [
        "### Feature Scaling (Compulsory for DEEP LEARNING)"
      ]
    },
    {
      "cell_type": "code",
      "source": [
        "from sklearn.preprocessing import StandardScaler\n",
        "sc = StandardScaler()\n",
        "x_train = sc.fit_transform(x_train) #scale all the columns without excluding any; important for neural network.\n",
        "x_test = sc.transform(x_test)"
      ],
      "metadata": {
        "id": "WeD7CfCdhTdV"
      },
      "execution_count": 54,
      "outputs": []
    },
    {
      "cell_type": "markdown",
      "metadata": {
        "id": "-zfEzkRVXIwF"
      },
      "source": [
        "## Part 2 - Building the ANN"
      ]
    },
    {
      "cell_type": "markdown",
      "metadata": {
        "id": "KvdeScabXtlB"
      },
      "source": [
        "### Initializing the ANN (with sequence of layers)"
      ]
    },
    {
      "cell_type": "code",
      "source": [
        "ann = tf.keras.models.Sequential() # Sequential class allows to build an ANN as sequence of layers/ computational layers.\n"
      ],
      "metadata": {
        "id": "-hcLMM_Cjpp_"
      },
      "execution_count": 55,
      "outputs": []
    },
    {
      "cell_type": "markdown",
      "metadata": {
        "id": "rP6urV6SX7kS"
      },
      "source": [
        "### Adding the first hidden layer (input layer)"
      ]
    },
    {
      "cell_type": "code",
      "source": [
        "dense_layer = tf.keras.layers.Dense(units=6, activation='relu') # a densely connected NN layer with 6 neurons(Hyper-Parameter)\n",
        "ann.add(dense_layer) # add the layer to the ANN."
      ],
      "metadata": {
        "id": "rcpQxALDlYG0"
      },
      "execution_count": 56,
      "outputs": []
    },
    {
      "cell_type": "markdown",
      "source": [
        "**activation ='relu' => \"Rectifier Function\" for the dense layers.** <br>\n",
        "\"**units=6**\" -> **hyper-parameter** which **can be changed** for producing better output through trials and errors."
      ],
      "metadata": {
        "id": "WR27-1ktmmKA"
      }
    },
    {
      "cell_type": "markdown",
      "metadata": {
        "id": "BELWAc_8YJze"
      },
      "source": [
        "### Adding the second hidden layer"
      ]
    },
    {
      "cell_type": "code",
      "source": [
        "dense_layer2 = tf.keras.layers.Dense(units=6, activation='relu')\n",
        "ann.add(dense_layer2)"
      ],
      "metadata": {
        "id": "e0SxvfluoFOy"
      },
      "execution_count": 57,
      "outputs": []
    },
    {
      "cell_type": "markdown",
      "metadata": {
        "id": "OyNEe6RXYcU4"
      },
      "source": [
        "### Adding the output layer"
      ]
    },
    {
      "cell_type": "code",
      "source": [
        "output_layer = tf.keras.layers.Dense(units=1, activation='sigmoid') # sigmoid activation for binary classification.\n",
        "ann.add(output_layer)\n",
        "# For multi-label classification, activation function should be \"softmax\""
      ],
      "metadata": {
        "id": "3AZqlDEjoIPX"
      },
      "execution_count": 58,
      "outputs": []
    },
    {
      "cell_type": "markdown",
      "metadata": {
        "id": "JT4u2S1_Y4WG"
      },
      "source": [
        "## Part 3 - Training the ANN"
      ]
    },
    {
      "cell_type": "markdown",
      "metadata": {
        "id": "8GWlJChhY_ZI"
      },
      "source": [
        "### Compiling the ANN"
      ]
    },
    {
      "cell_type": "code",
      "source": [
        "type(ann)"
      ],
      "metadata": {
        "colab": {
          "base_uri": "https://localhost:8080/",
          "height": 186
        },
        "id": "Mm1vRhoDsA1C",
        "outputId": "5f4c7341-fc8e-4ea1-ae7d-b6a1eba27b81"
      },
      "execution_count": 59,
      "outputs": [
        {
          "output_type": "execute_result",
          "data": {
            "text/plain": [
              "keras.src.engine.sequential.Sequential"
            ],
            "text/html": [
              "<div style=\"max-width:800px; border: 1px solid var(--colab-border-color);\"><style>\n",
              "      pre.function-repr-contents {\n",
              "        overflow-x: auto;\n",
              "        padding: 8px 12px;\n",
              "        max-height: 500px;\n",
              "      }\n",
              "\n",
              "      pre.function-repr-contents.function-repr-contents-collapsed {\n",
              "        cursor: pointer;\n",
              "        max-height: 100px;\n",
              "      }\n",
              "    </style>\n",
              "    <pre style=\"white-space: initial; background:\n",
              "         var(--colab-secondary-surface-color); padding: 8px 12px;\n",
              "         border-bottom: 1px solid var(--colab-border-color);\"><b>keras.src.engine.sequential.Sequential</b><br/>def error_handler(*args, **kwargs)</pre><pre class=\"function-repr-contents function-repr-contents-collapsed\" style=\"\"><a class=\"filepath\" style=\"display:none\" href=\"#\">/usr/local/lib/python3.10/dist-packages/keras/src/engine/sequential.py</a>`Sequential` groups a linear stack of layers into a `tf.keras.Model`.\n",
              "\n",
              "`Sequential` provides training and inference features on this model.\n",
              "\n",
              "Examples:\n",
              "\n",
              "```python\n",
              "model = tf.keras.Sequential()\n",
              "model.add(tf.keras.Input(shape=(16,)))\n",
              "model.add(tf.keras.layers.Dense(8))\n",
              "\n",
              "# Note that you can also omit the initial `Input`.\n",
              "# In that case the model doesn&#x27;t have any weights until the first call\n",
              "# to a training/evaluation method (since it isn&#x27;t yet built):\n",
              "model = tf.keras.Sequential()\n",
              "model.add(tf.keras.layers.Dense(8))\n",
              "model.add(tf.keras.layers.Dense(4))\n",
              "# model.weights not created yet\n",
              "\n",
              "# Whereas if you specify an `Input`, the model gets built\n",
              "# continuously as you are adding layers:\n",
              "model = tf.keras.Sequential()\n",
              "model.add(tf.keras.Input(shape=(16,)))\n",
              "model.add(tf.keras.layers.Dense(4))\n",
              "len(model.weights)\n",
              "# Returns &quot;2&quot;\n",
              "\n",
              "# When using the delayed-build pattern (no input shape specified), you can\n",
              "# choose to manually build your model by calling\n",
              "# `build(batch_input_shape)`:\n",
              "model = tf.keras.Sequential()\n",
              "model.add(tf.keras.layers.Dense(8))\n",
              "model.add(tf.keras.layers.Dense(4))\n",
              "model.build((None, 16))\n",
              "len(model.weights)\n",
              "# Returns &quot;4&quot;\n",
              "\n",
              "# Note that when using the delayed-build pattern (no input shape specified),\n",
              "# the model gets built the first time you call `fit`, `eval`, or `predict`,\n",
              "# or the first time you call the model on some input data.\n",
              "model = tf.keras.Sequential()\n",
              "model.add(tf.keras.layers.Dense(8))\n",
              "model.add(tf.keras.layers.Dense(1))\n",
              "model.compile(optimizer=&#x27;sgd&#x27;, loss=&#x27;mse&#x27;)\n",
              "# This builds the model for the first time:\n",
              "model.fit(x, y, batch_size=32, epochs=10)\n",
              "```</pre>\n",
              "      <script>\n",
              "      if (google.colab.kernel.accessAllowed && google.colab.files && google.colab.files.view) {\n",
              "        for (const element of document.querySelectorAll('.filepath')) {\n",
              "          element.style.display = 'block'\n",
              "          element.onclick = (event) => {\n",
              "            event.preventDefault();\n",
              "            event.stopPropagation();\n",
              "            google.colab.files.view(element.textContent, 47);\n",
              "          };\n",
              "        }\n",
              "      }\n",
              "      for (const element of document.querySelectorAll('.function-repr-contents')) {\n",
              "        element.onclick = (event) => {\n",
              "          event.preventDefault();\n",
              "          event.stopPropagation();\n",
              "          element.classList.toggle('function-repr-contents-collapsed');\n",
              "        };\n",
              "      }\n",
              "      </script>\n",
              "      </div>"
            ]
          },
          "metadata": {},
          "execution_count": 59
        }
      ]
    },
    {
      "cell_type": "code",
      "source": [
        "ann.compile(optimizer = 'adam', loss = 'binary_crossentropy', metrics = ['accuracy'])\n",
        "# Adam optimizer is best performance optimizer which can perform stochastic gradient descent.\n",
        "# For binary classification, loss function 'binary_crossentropy' is highly recommended.\n",
        "# For non-binary classification, recommendation would be to use 'categorical_crossentropy' loss function."
      ],
      "metadata": {
        "id": "gd1sPAnRrIi4"
      },
      "execution_count": 67,
      "outputs": []
    },
    {
      "cell_type": "markdown",
      "metadata": {
        "id": "0QR_G5u7ZLSM"
      },
      "source": [
        "### Training the ANN on the Training set"
      ]
    },
    {
      "cell_type": "code",
      "source": [
        "ann.fit(x_train, y_train, batch_size = 33, epochs = 250)"
      ],
      "metadata": {
        "colab": {
          "base_uri": "https://localhost:8080/"
        },
        "id": "eSmgcnIYv89j",
        "outputId": "cdb482c7-0291-4cd3-b0a9-9fec57bd8f60"
      },
      "execution_count": 68,
      "outputs": [
        {
          "output_type": "stream",
          "name": "stdout",
          "text": [
            "Epoch 1/250\n",
            "243/243 [==============================] - 3s 5ms/step - loss: 0.3309 - accuracy: 0.8652\n",
            "Epoch 2/250\n",
            "243/243 [==============================] - 1s 3ms/step - loss: 0.3305 - accuracy: 0.8661\n",
            "Epoch 3/250\n",
            "243/243 [==============================] - 1s 3ms/step - loss: 0.3308 - accuracy: 0.8640\n",
            "Epoch 4/250\n",
            "243/243 [==============================] - 1s 3ms/step - loss: 0.3305 - accuracy: 0.8661\n",
            "Epoch 5/250\n",
            "243/243 [==============================] - 1s 3ms/step - loss: 0.3308 - accuracy: 0.8655\n",
            "Epoch 6/250\n",
            "243/243 [==============================] - 1s 3ms/step - loss: 0.3304 - accuracy: 0.8673\n",
            "Epoch 7/250\n",
            "243/243 [==============================] - 1s 3ms/step - loss: 0.3309 - accuracy: 0.8677\n",
            "Epoch 8/250\n",
            "243/243 [==============================] - 1s 3ms/step - loss: 0.3305 - accuracy: 0.8649\n",
            "Epoch 9/250\n",
            "243/243 [==============================] - 1s 3ms/step - loss: 0.3306 - accuracy: 0.8651\n",
            "Epoch 10/250\n",
            "243/243 [==============================] - 1s 3ms/step - loss: 0.3307 - accuracy: 0.8654\n",
            "Epoch 11/250\n",
            "243/243 [==============================] - 1s 3ms/step - loss: 0.3304 - accuracy: 0.8671\n",
            "Epoch 12/250\n",
            "243/243 [==============================] - 1s 3ms/step - loss: 0.3305 - accuracy: 0.8658\n",
            "Epoch 13/250\n",
            "243/243 [==============================] - 1s 3ms/step - loss: 0.3305 - accuracy: 0.8655\n",
            "Epoch 14/250\n",
            "243/243 [==============================] - 1s 4ms/step - loss: 0.3307 - accuracy: 0.8670\n",
            "Epoch 15/250\n",
            "243/243 [==============================] - 1s 5ms/step - loss: 0.3304 - accuracy: 0.8654\n",
            "Epoch 16/250\n",
            "243/243 [==============================] - 1s 5ms/step - loss: 0.3302 - accuracy: 0.8654\n",
            "Epoch 17/250\n",
            "243/243 [==============================] - 1s 3ms/step - loss: 0.3307 - accuracy: 0.8655\n",
            "Epoch 18/250\n",
            "243/243 [==============================] - 1s 3ms/step - loss: 0.3308 - accuracy: 0.8659\n",
            "Epoch 19/250\n",
            "243/243 [==============================] - 1s 3ms/step - loss: 0.3307 - accuracy: 0.8634\n",
            "Epoch 20/250\n",
            "243/243 [==============================] - 1s 3ms/step - loss: 0.3309 - accuracy: 0.8654\n",
            "Epoch 21/250\n",
            "243/243 [==============================] - 1s 3ms/step - loss: 0.3305 - accuracy: 0.8655\n",
            "Epoch 22/250\n",
            "243/243 [==============================] - 1s 3ms/step - loss: 0.3304 - accuracy: 0.8662\n",
            "Epoch 23/250\n",
            "243/243 [==============================] - 1s 3ms/step - loss: 0.3306 - accuracy: 0.8651\n",
            "Epoch 24/250\n",
            "243/243 [==============================] - 1s 3ms/step - loss: 0.3306 - accuracy: 0.8650\n",
            "Epoch 25/250\n",
            "243/243 [==============================] - 1s 3ms/step - loss: 0.3304 - accuracy: 0.8650\n",
            "Epoch 26/250\n",
            "243/243 [==============================] - 1s 3ms/step - loss: 0.3308 - accuracy: 0.8658\n",
            "Epoch 27/250\n",
            "243/243 [==============================] - 1s 3ms/step - loss: 0.3305 - accuracy: 0.8641\n",
            "Epoch 28/250\n",
            "243/243 [==============================] - 1s 3ms/step - loss: 0.3303 - accuracy: 0.8661\n",
            "Epoch 29/250\n",
            "243/243 [==============================] - 1s 3ms/step - loss: 0.3303 - accuracy: 0.8670\n",
            "Epoch 30/250\n",
            "243/243 [==============================] - 1s 4ms/step - loss: 0.3304 - accuracy: 0.8674\n",
            "Epoch 31/250\n",
            "243/243 [==============================] - 1s 5ms/step - loss: 0.3302 - accuracy: 0.8661\n",
            "Epoch 32/250\n",
            "243/243 [==============================] - 1s 4ms/step - loss: 0.3304 - accuracy: 0.8645\n",
            "Epoch 33/250\n",
            "243/243 [==============================] - 1s 3ms/step - loss: 0.3305 - accuracy: 0.8658\n",
            "Epoch 34/250\n",
            "243/243 [==============================] - 1s 3ms/step - loss: 0.3305 - accuracy: 0.8654\n",
            "Epoch 35/250\n",
            "243/243 [==============================] - 1s 3ms/step - loss: 0.3304 - accuracy: 0.8661\n",
            "Epoch 36/250\n",
            "243/243 [==============================] - 1s 3ms/step - loss: 0.3303 - accuracy: 0.8665\n",
            "Epoch 37/250\n",
            "243/243 [==============================] - 1s 3ms/step - loss: 0.3302 - accuracy: 0.8656\n",
            "Epoch 38/250\n",
            "243/243 [==============================] - 1s 3ms/step - loss: 0.3300 - accuracy: 0.8668\n",
            "Epoch 39/250\n",
            "243/243 [==============================] - 1s 3ms/step - loss: 0.3300 - accuracy: 0.8652\n",
            "Epoch 40/250\n",
            "243/243 [==============================] - 1s 3ms/step - loss: 0.3304 - accuracy: 0.8656\n",
            "Epoch 41/250\n",
            "243/243 [==============================] - 1s 3ms/step - loss: 0.3302 - accuracy: 0.8651\n",
            "Epoch 42/250\n",
            "243/243 [==============================] - 1s 3ms/step - loss: 0.3300 - accuracy: 0.8652\n",
            "Epoch 43/250\n",
            "243/243 [==============================] - 1s 3ms/step - loss: 0.3303 - accuracy: 0.8643\n",
            "Epoch 44/250\n",
            "243/243 [==============================] - 1s 3ms/step - loss: 0.3306 - accuracy: 0.8655\n",
            "Epoch 45/250\n",
            "243/243 [==============================] - 1s 4ms/step - loss: 0.3304 - accuracy: 0.8656\n",
            "Epoch 46/250\n",
            "243/243 [==============================] - 1s 5ms/step - loss: 0.3301 - accuracy: 0.8654\n",
            "Epoch 47/250\n",
            "243/243 [==============================] - 1s 5ms/step - loss: 0.3302 - accuracy: 0.8654\n",
            "Epoch 48/250\n",
            "243/243 [==============================] - 1s 4ms/step - loss: 0.3302 - accuracy: 0.8652\n",
            "Epoch 49/250\n",
            "243/243 [==============================] - 1s 3ms/step - loss: 0.3298 - accuracy: 0.8645\n",
            "Epoch 50/250\n",
            "243/243 [==============================] - 1s 3ms/step - loss: 0.3302 - accuracy: 0.8658\n",
            "Epoch 51/250\n",
            "243/243 [==============================] - 1s 3ms/step - loss: 0.3301 - accuracy: 0.8659\n",
            "Epoch 52/250\n",
            "243/243 [==============================] - 1s 3ms/step - loss: 0.3301 - accuracy: 0.8646\n",
            "Epoch 53/250\n",
            "243/243 [==============================] - 1s 3ms/step - loss: 0.3301 - accuracy: 0.8656\n",
            "Epoch 54/250\n",
            "243/243 [==============================] - 1s 3ms/step - loss: 0.3299 - accuracy: 0.8651\n",
            "Epoch 55/250\n",
            "243/243 [==============================] - 1s 3ms/step - loss: 0.3301 - accuracy: 0.8644\n",
            "Epoch 56/250\n",
            "243/243 [==============================] - 1s 3ms/step - loss: 0.3301 - accuracy: 0.8659\n",
            "Epoch 57/250\n",
            "243/243 [==============================] - 1s 3ms/step - loss: 0.3301 - accuracy: 0.8662\n",
            "Epoch 58/250\n",
            "243/243 [==============================] - 1s 3ms/step - loss: 0.3301 - accuracy: 0.8648\n",
            "Epoch 59/250\n",
            "243/243 [==============================] - 1s 3ms/step - loss: 0.3303 - accuracy: 0.8651\n",
            "Epoch 60/250\n",
            "243/243 [==============================] - 1s 4ms/step - loss: 0.3302 - accuracy: 0.8649\n",
            "Epoch 61/250\n",
            "243/243 [==============================] - 2s 8ms/step - loss: 0.3298 - accuracy: 0.8662\n",
            "Epoch 62/250\n",
            "243/243 [==============================] - 2s 6ms/step - loss: 0.3299 - accuracy: 0.8658\n",
            "Epoch 63/250\n",
            "243/243 [==============================] - 1s 3ms/step - loss: 0.3301 - accuracy: 0.8660\n",
            "Epoch 64/250\n",
            "243/243 [==============================] - 1s 3ms/step - loss: 0.3300 - accuracy: 0.8649\n",
            "Epoch 65/250\n",
            "243/243 [==============================] - 1s 3ms/step - loss: 0.3300 - accuracy: 0.8654\n",
            "Epoch 66/250\n",
            "243/243 [==============================] - 1s 3ms/step - loss: 0.3303 - accuracy: 0.8659\n",
            "Epoch 67/250\n",
            "243/243 [==============================] - 1s 3ms/step - loss: 0.3297 - accuracy: 0.8669\n",
            "Epoch 68/250\n",
            "243/243 [==============================] - 1s 3ms/step - loss: 0.3302 - accuracy: 0.8661\n",
            "Epoch 69/250\n",
            "243/243 [==============================] - 1s 3ms/step - loss: 0.3301 - accuracy: 0.8651\n",
            "Epoch 70/250\n",
            "243/243 [==============================] - 1s 3ms/step - loss: 0.3301 - accuracy: 0.8649\n",
            "Epoch 71/250\n",
            "243/243 [==============================] - 1s 3ms/step - loss: 0.3300 - accuracy: 0.8648\n",
            "Epoch 72/250\n",
            "243/243 [==============================] - 1s 3ms/step - loss: 0.3300 - accuracy: 0.8652\n",
            "Epoch 73/250\n",
            "243/243 [==============================] - 1s 3ms/step - loss: 0.3302 - accuracy: 0.8662\n",
            "Epoch 74/250\n",
            "243/243 [==============================] - 1s 3ms/step - loss: 0.3299 - accuracy: 0.8652\n",
            "Epoch 75/250\n",
            "243/243 [==============================] - 1s 4ms/step - loss: 0.3300 - accuracy: 0.8646\n",
            "Epoch 76/250\n",
            "243/243 [==============================] - 1s 5ms/step - loss: 0.3301 - accuracy: 0.8651\n",
            "Epoch 77/250\n",
            "243/243 [==============================] - 1s 5ms/step - loss: 0.3301 - accuracy: 0.8652\n",
            "Epoch 78/250\n",
            "243/243 [==============================] - 1s 4ms/step - loss: 0.3301 - accuracy: 0.8654\n",
            "Epoch 79/250\n",
            "243/243 [==============================] - 1s 3ms/step - loss: 0.3294 - accuracy: 0.8665\n",
            "Epoch 80/250\n",
            "243/243 [==============================] - 1s 3ms/step - loss: 0.3302 - accuracy: 0.8655\n",
            "Epoch 81/250\n",
            "243/243 [==============================] - 1s 3ms/step - loss: 0.3299 - accuracy: 0.8645\n",
            "Epoch 82/250\n",
            "243/243 [==============================] - 1s 3ms/step - loss: 0.3300 - accuracy: 0.8652\n",
            "Epoch 83/250\n",
            "243/243 [==============================] - 1s 3ms/step - loss: 0.3298 - accuracy: 0.8652\n",
            "Epoch 84/250\n",
            "243/243 [==============================] - 1s 3ms/step - loss: 0.3301 - accuracy: 0.8664\n",
            "Epoch 85/250\n",
            "243/243 [==============================] - 1s 3ms/step - loss: 0.3299 - accuracy: 0.8666\n",
            "Epoch 86/250\n",
            "243/243 [==============================] - 1s 3ms/step - loss: 0.3300 - accuracy: 0.8659\n",
            "Epoch 87/250\n",
            "243/243 [==============================] - 1s 3ms/step - loss: 0.3297 - accuracy: 0.8662\n",
            "Epoch 88/250\n",
            "243/243 [==============================] - 1s 3ms/step - loss: 0.3300 - accuracy: 0.8643\n",
            "Epoch 89/250\n",
            "243/243 [==============================] - 1s 3ms/step - loss: 0.3302 - accuracy: 0.8658\n",
            "Epoch 90/250\n",
            "243/243 [==============================] - 1s 4ms/step - loss: 0.3300 - accuracy: 0.8652\n",
            "Epoch 91/250\n",
            "243/243 [==============================] - 1s 5ms/step - loss: 0.3303 - accuracy: 0.8669\n",
            "Epoch 92/250\n",
            "243/243 [==============================] - 1s 5ms/step - loss: 0.3295 - accuracy: 0.8673\n",
            "Epoch 93/250\n",
            "243/243 [==============================] - 1s 3ms/step - loss: 0.3302 - accuracy: 0.8666\n",
            "Epoch 94/250\n",
            "243/243 [==============================] - 1s 3ms/step - loss: 0.3299 - accuracy: 0.8660\n",
            "Epoch 95/250\n",
            "243/243 [==============================] - 1s 3ms/step - loss: 0.3299 - accuracy: 0.8654\n",
            "Epoch 96/250\n",
            "243/243 [==============================] - 1s 3ms/step - loss: 0.3297 - accuracy: 0.8668\n",
            "Epoch 97/250\n",
            "243/243 [==============================] - 1s 3ms/step - loss: 0.3300 - accuracy: 0.8652\n",
            "Epoch 98/250\n",
            "243/243 [==============================] - 1s 3ms/step - loss: 0.3300 - accuracy: 0.8655\n",
            "Epoch 99/250\n",
            "243/243 [==============================] - 1s 3ms/step - loss: 0.3299 - accuracy: 0.8671\n",
            "Epoch 100/250\n",
            "243/243 [==============================] - 1s 3ms/step - loss: 0.3298 - accuracy: 0.8669\n",
            "Epoch 101/250\n",
            "243/243 [==============================] - 1s 3ms/step - loss: 0.3302 - accuracy: 0.8654\n",
            "Epoch 102/250\n",
            "243/243 [==============================] - 1s 3ms/step - loss: 0.3302 - accuracy: 0.8649\n",
            "Epoch 103/250\n",
            "243/243 [==============================] - 1s 3ms/step - loss: 0.3299 - accuracy: 0.8655\n",
            "Epoch 104/250\n",
            "243/243 [==============================] - 1s 3ms/step - loss: 0.3299 - accuracy: 0.8655\n",
            "Epoch 105/250\n",
            "243/243 [==============================] - 1s 4ms/step - loss: 0.3298 - accuracy: 0.8646\n",
            "Epoch 106/250\n",
            "243/243 [==============================] - 1s 4ms/step - loss: 0.3299 - accuracy: 0.8658\n",
            "Epoch 107/250\n",
            "243/243 [==============================] - 1s 5ms/step - loss: 0.3296 - accuracy: 0.8651\n",
            "Epoch 108/250\n",
            "243/243 [==============================] - 1s 4ms/step - loss: 0.3296 - accuracy: 0.8654\n",
            "Epoch 109/250\n",
            "243/243 [==============================] - 1s 3ms/step - loss: 0.3299 - accuracy: 0.8654\n",
            "Epoch 110/250\n",
            "243/243 [==============================] - 1s 3ms/step - loss: 0.3296 - accuracy: 0.8662\n",
            "Epoch 111/250\n",
            "243/243 [==============================] - 1s 3ms/step - loss: 0.3299 - accuracy: 0.8668\n",
            "Epoch 112/250\n",
            "243/243 [==============================] - 1s 3ms/step - loss: 0.3298 - accuracy: 0.8666\n",
            "Epoch 113/250\n",
            "243/243 [==============================] - 1s 3ms/step - loss: 0.3301 - accuracy: 0.8650\n",
            "Epoch 114/250\n",
            "243/243 [==============================] - 1s 3ms/step - loss: 0.3295 - accuracy: 0.8650\n",
            "Epoch 115/250\n",
            "243/243 [==============================] - 1s 3ms/step - loss: 0.3297 - accuracy: 0.8648\n",
            "Epoch 116/250\n",
            "243/243 [==============================] - 1s 3ms/step - loss: 0.3301 - accuracy: 0.8665\n",
            "Epoch 117/250\n",
            "243/243 [==============================] - 1s 3ms/step - loss: 0.3295 - accuracy: 0.8661\n",
            "Epoch 118/250\n",
            "243/243 [==============================] - 1s 3ms/step - loss: 0.3300 - accuracy: 0.8655\n",
            "Epoch 119/250\n",
            "243/243 [==============================] - 1s 3ms/step - loss: 0.3297 - accuracy: 0.8655\n",
            "Epoch 120/250\n",
            "243/243 [==============================] - 1s 4ms/step - loss: 0.3295 - accuracy: 0.8665\n",
            "Epoch 121/250\n",
            "243/243 [==============================] - 1s 5ms/step - loss: 0.3300 - accuracy: 0.8655\n",
            "Epoch 122/250\n",
            "243/243 [==============================] - 1s 5ms/step - loss: 0.3297 - accuracy: 0.8656\n",
            "Epoch 123/250\n",
            "243/243 [==============================] - 1s 4ms/step - loss: 0.3299 - accuracy: 0.8658\n",
            "Epoch 124/250\n",
            "243/243 [==============================] - 1s 3ms/step - loss: 0.3297 - accuracy: 0.8656\n",
            "Epoch 125/250\n",
            "243/243 [==============================] - 1s 3ms/step - loss: 0.3294 - accuracy: 0.8662\n",
            "Epoch 126/250\n",
            "243/243 [==============================] - 1s 3ms/step - loss: 0.3298 - accuracy: 0.8654\n",
            "Epoch 127/250\n",
            "243/243 [==============================] - 1s 3ms/step - loss: 0.3299 - accuracy: 0.8670\n",
            "Epoch 128/250\n",
            "243/243 [==============================] - 1s 3ms/step - loss: 0.3299 - accuracy: 0.8639\n",
            "Epoch 129/250\n",
            "243/243 [==============================] - 1s 3ms/step - loss: 0.3296 - accuracy: 0.8660\n",
            "Epoch 130/250\n",
            "243/243 [==============================] - 1s 3ms/step - loss: 0.3297 - accuracy: 0.8652\n",
            "Epoch 131/250\n",
            "243/243 [==============================] - 1s 3ms/step - loss: 0.3297 - accuracy: 0.8656\n",
            "Epoch 132/250\n",
            "243/243 [==============================] - 1s 3ms/step - loss: 0.3299 - accuracy: 0.8656\n",
            "Epoch 133/250\n",
            "243/243 [==============================] - 1s 3ms/step - loss: 0.3297 - accuracy: 0.8661\n",
            "Epoch 134/250\n",
            "243/243 [==============================] - 1s 3ms/step - loss: 0.3298 - accuracy: 0.8659\n",
            "Epoch 135/250\n",
            "243/243 [==============================] - 1s 3ms/step - loss: 0.3295 - accuracy: 0.8662\n",
            "Epoch 136/250\n",
            "243/243 [==============================] - 1s 4ms/step - loss: 0.3296 - accuracy: 0.8650\n",
            "Epoch 137/250\n",
            "243/243 [==============================] - 1s 5ms/step - loss: 0.3296 - accuracy: 0.8662\n",
            "Epoch 138/250\n",
            "243/243 [==============================] - 1s 5ms/step - loss: 0.3295 - accuracy: 0.8661\n",
            "Epoch 139/250\n",
            "243/243 [==============================] - 1s 3ms/step - loss: 0.3297 - accuracy: 0.8666\n",
            "Epoch 140/250\n",
            "243/243 [==============================] - 1s 3ms/step - loss: 0.3298 - accuracy: 0.8651\n",
            "Epoch 141/250\n",
            "243/243 [==============================] - 1s 3ms/step - loss: 0.3296 - accuracy: 0.8654\n",
            "Epoch 142/250\n",
            "243/243 [==============================] - 1s 3ms/step - loss: 0.3297 - accuracy: 0.8655\n",
            "Epoch 143/250\n",
            "243/243 [==============================] - 1s 3ms/step - loss: 0.3295 - accuracy: 0.8664\n",
            "Epoch 144/250\n",
            "243/243 [==============================] - 1s 3ms/step - loss: 0.3300 - accuracy: 0.8655\n",
            "Epoch 145/250\n",
            "243/243 [==============================] - 1s 3ms/step - loss: 0.3303 - accuracy: 0.8664\n",
            "Epoch 146/250\n",
            "243/243 [==============================] - 1s 3ms/step - loss: 0.3294 - accuracy: 0.8650\n",
            "Epoch 147/250\n",
            "243/243 [==============================] - 1s 3ms/step - loss: 0.3297 - accuracy: 0.8656\n",
            "Epoch 148/250\n",
            "243/243 [==============================] - 1s 3ms/step - loss: 0.3294 - accuracy: 0.8660\n",
            "Epoch 149/250\n",
            "243/243 [==============================] - 1s 4ms/step - loss: 0.3297 - accuracy: 0.8662\n",
            "Epoch 150/250\n",
            "243/243 [==============================] - 1s 3ms/step - loss: 0.3299 - accuracy: 0.8651\n",
            "Epoch 151/250\n",
            "243/243 [==============================] - 1s 5ms/step - loss: 0.3296 - accuracy: 0.8661\n",
            "Epoch 152/250\n",
            "243/243 [==============================] - 1s 5ms/step - loss: 0.3297 - accuracy: 0.8659\n",
            "Epoch 153/250\n",
            "243/243 [==============================] - 1s 4ms/step - loss: 0.3296 - accuracy: 0.8655\n",
            "Epoch 154/250\n",
            "243/243 [==============================] - 1s 3ms/step - loss: 0.3301 - accuracy: 0.8644\n",
            "Epoch 155/250\n",
            "243/243 [==============================] - 1s 5ms/step - loss: 0.3299 - accuracy: 0.8656\n",
            "Epoch 156/250\n",
            "243/243 [==============================] - 1s 5ms/step - loss: 0.3296 - accuracy: 0.8654\n",
            "Epoch 157/250\n",
            "243/243 [==============================] - 1s 4ms/step - loss: 0.3299 - accuracy: 0.8655\n",
            "Epoch 158/250\n",
            "243/243 [==============================] - 1s 3ms/step - loss: 0.3296 - accuracy: 0.8665\n",
            "Epoch 159/250\n",
            "243/243 [==============================] - 1s 3ms/step - loss: 0.3294 - accuracy: 0.8661\n",
            "Epoch 160/250\n",
            "243/243 [==============================] - 1s 3ms/step - loss: 0.3296 - accuracy: 0.8652\n",
            "Epoch 161/250\n",
            "243/243 [==============================] - 1s 3ms/step - loss: 0.3298 - accuracy: 0.8665\n",
            "Epoch 162/250\n",
            "243/243 [==============================] - 1s 3ms/step - loss: 0.3299 - accuracy: 0.8654\n",
            "Epoch 163/250\n",
            "243/243 [==============================] - 1s 3ms/step - loss: 0.3296 - accuracy: 0.8661\n",
            "Epoch 164/250\n",
            "243/243 [==============================] - 1s 3ms/step - loss: 0.3297 - accuracy: 0.8654\n",
            "Epoch 165/250\n",
            "243/243 [==============================] - 1s 5ms/step - loss: 0.3296 - accuracy: 0.8652\n",
            "Epoch 166/250\n",
            "243/243 [==============================] - 1s 5ms/step - loss: 0.3296 - accuracy: 0.8658\n",
            "Epoch 167/250\n",
            "243/243 [==============================] - 1s 4ms/step - loss: 0.3298 - accuracy: 0.8637\n",
            "Epoch 168/250\n",
            "243/243 [==============================] - 1s 3ms/step - loss: 0.3293 - accuracy: 0.8665\n",
            "Epoch 169/250\n",
            "243/243 [==============================] - 1s 3ms/step - loss: 0.3298 - accuracy: 0.8661\n",
            "Epoch 170/250\n",
            "243/243 [==============================] - 1s 3ms/step - loss: 0.3297 - accuracy: 0.8662\n",
            "Epoch 171/250\n",
            "243/243 [==============================] - 1s 3ms/step - loss: 0.3295 - accuracy: 0.8661\n",
            "Epoch 172/250\n",
            "243/243 [==============================] - 1s 3ms/step - loss: 0.3300 - accuracy: 0.8649\n",
            "Epoch 173/250\n",
            "243/243 [==============================] - 1s 3ms/step - loss: 0.3295 - accuracy: 0.8651\n",
            "Epoch 174/250\n",
            "243/243 [==============================] - 1s 3ms/step - loss: 0.3298 - accuracy: 0.8652\n",
            "Epoch 175/250\n",
            "243/243 [==============================] - 1s 3ms/step - loss: 0.3295 - accuracy: 0.8645\n",
            "Epoch 176/250\n",
            "243/243 [==============================] - 1s 3ms/step - loss: 0.3296 - accuracy: 0.8660\n",
            "Epoch 177/250\n",
            "243/243 [==============================] - 1s 3ms/step - loss: 0.3296 - accuracy: 0.8665\n",
            "Epoch 178/250\n",
            "243/243 [==============================] - 1s 3ms/step - loss: 0.3295 - accuracy: 0.8651\n",
            "Epoch 179/250\n",
            "243/243 [==============================] - 1s 3ms/step - loss: 0.3300 - accuracy: 0.8656\n",
            "Epoch 180/250\n",
            "243/243 [==============================] - 1s 5ms/step - loss: 0.3297 - accuracy: 0.8649\n",
            "Epoch 181/250\n",
            "243/243 [==============================] - 1s 5ms/step - loss: 0.3294 - accuracy: 0.8652\n",
            "Epoch 182/250\n",
            "243/243 [==============================] - 1s 4ms/step - loss: 0.3293 - accuracy: 0.8661\n",
            "Epoch 183/250\n",
            "243/243 [==============================] - 1s 3ms/step - loss: 0.3297 - accuracy: 0.8654\n",
            "Epoch 184/250\n",
            "243/243 [==============================] - 1s 3ms/step - loss: 0.3298 - accuracy: 0.8646\n",
            "Epoch 185/250\n",
            "243/243 [==============================] - 1s 3ms/step - loss: 0.3298 - accuracy: 0.8656\n",
            "Epoch 186/250\n",
            "243/243 [==============================] - 1s 3ms/step - loss: 0.3293 - accuracy: 0.8655\n",
            "Epoch 187/250\n",
            "243/243 [==============================] - 1s 3ms/step - loss: 0.3295 - accuracy: 0.8658\n",
            "Epoch 188/250\n",
            "243/243 [==============================] - 1s 3ms/step - loss: 0.3294 - accuracy: 0.8643\n",
            "Epoch 189/250\n",
            "243/243 [==============================] - 1s 3ms/step - loss: 0.3295 - accuracy: 0.8644\n",
            "Epoch 190/250\n",
            "243/243 [==============================] - 1s 3ms/step - loss: 0.3297 - accuracy: 0.8650\n",
            "Epoch 191/250\n",
            "243/243 [==============================] - 1s 3ms/step - loss: 0.3294 - accuracy: 0.8656\n",
            "Epoch 192/250\n",
            "243/243 [==============================] - 1s 3ms/step - loss: 0.3297 - accuracy: 0.8645\n",
            "Epoch 193/250\n",
            "243/243 [==============================] - 1s 3ms/step - loss: 0.3297 - accuracy: 0.8660\n",
            "Epoch 194/250\n",
            "243/243 [==============================] - 1s 3ms/step - loss: 0.3295 - accuracy: 0.8652\n",
            "Epoch 195/250\n",
            "243/243 [==============================] - 1s 4ms/step - loss: 0.3294 - accuracy: 0.8662\n",
            "Epoch 196/250\n",
            "243/243 [==============================] - 1s 5ms/step - loss: 0.3295 - accuracy: 0.8656\n",
            "Epoch 197/250\n",
            "243/243 [==============================] - 1s 5ms/step - loss: 0.3295 - accuracy: 0.8660\n",
            "Epoch 198/250\n",
            "243/243 [==============================] - 1s 3ms/step - loss: 0.3295 - accuracy: 0.8662\n",
            "Epoch 199/250\n",
            "243/243 [==============================] - 1s 3ms/step - loss: 0.3294 - accuracy: 0.8646\n",
            "Epoch 200/250\n",
            "243/243 [==============================] - 1s 3ms/step - loss: 0.3293 - accuracy: 0.8652\n",
            "Epoch 201/250\n",
            "243/243 [==============================] - 1s 3ms/step - loss: 0.3293 - accuracy: 0.8665\n",
            "Epoch 202/250\n",
            "243/243 [==============================] - 1s 3ms/step - loss: 0.3298 - accuracy: 0.8650\n",
            "Epoch 203/250\n",
            "243/243 [==============================] - 1s 3ms/step - loss: 0.3295 - accuracy: 0.8656\n",
            "Epoch 204/250\n",
            "243/243 [==============================] - 1s 3ms/step - loss: 0.3293 - accuracy: 0.8659\n",
            "Epoch 205/250\n",
            "243/243 [==============================] - 1s 3ms/step - loss: 0.3296 - accuracy: 0.8655\n",
            "Epoch 206/250\n",
            "243/243 [==============================] - 1s 3ms/step - loss: 0.3291 - accuracy: 0.8655\n",
            "Epoch 207/250\n",
            "243/243 [==============================] - 1s 3ms/step - loss: 0.3294 - accuracy: 0.8669\n",
            "Epoch 208/250\n",
            "243/243 [==============================] - 1s 3ms/step - loss: 0.3295 - accuracy: 0.8662\n",
            "Epoch 209/250\n",
            "243/243 [==============================] - 1s 3ms/step - loss: 0.3297 - accuracy: 0.8645\n",
            "Epoch 210/250\n",
            "243/243 [==============================] - 1s 4ms/step - loss: 0.3294 - accuracy: 0.8661\n",
            "Epoch 211/250\n",
            "243/243 [==============================] - 1s 5ms/step - loss: 0.3295 - accuracy: 0.8649\n",
            "Epoch 212/250\n",
            "243/243 [==============================] - 1s 5ms/step - loss: 0.3292 - accuracy: 0.8659\n",
            "Epoch 213/250\n",
            "243/243 [==============================] - 1s 4ms/step - loss: 0.3292 - accuracy: 0.8660\n",
            "Epoch 214/250\n",
            "243/243 [==============================] - 1s 3ms/step - loss: 0.3294 - accuracy: 0.8640\n",
            "Epoch 215/250\n",
            "243/243 [==============================] - 1s 3ms/step - loss: 0.3293 - accuracy: 0.8664\n",
            "Epoch 216/250\n",
            "243/243 [==============================] - 1s 3ms/step - loss: 0.3296 - accuracy: 0.8661\n",
            "Epoch 217/250\n",
            "243/243 [==============================] - 1s 3ms/step - loss: 0.3297 - accuracy: 0.8674\n",
            "Epoch 218/250\n",
            "243/243 [==============================] - 1s 3ms/step - loss: 0.3292 - accuracy: 0.8650\n",
            "Epoch 219/250\n",
            "243/243 [==============================] - 1s 3ms/step - loss: 0.3293 - accuracy: 0.8655\n",
            "Epoch 220/250\n",
            "243/243 [==============================] - 1s 3ms/step - loss: 0.3298 - accuracy: 0.8635\n",
            "Epoch 221/250\n",
            "243/243 [==============================] - 1s 3ms/step - loss: 0.3294 - accuracy: 0.8644\n",
            "Epoch 222/250\n",
            "243/243 [==============================] - 1s 3ms/step - loss: 0.3294 - accuracy: 0.8661\n",
            "Epoch 223/250\n",
            "243/243 [==============================] - 1s 3ms/step - loss: 0.3296 - accuracy: 0.8650\n",
            "Epoch 224/250\n",
            "243/243 [==============================] - 1s 3ms/step - loss: 0.3296 - accuracy: 0.8639\n",
            "Epoch 225/250\n",
            "243/243 [==============================] - 1s 4ms/step - loss: 0.3296 - accuracy: 0.8651\n",
            "Epoch 226/250\n",
            "243/243 [==============================] - 1s 5ms/step - loss: 0.3292 - accuracy: 0.8662\n",
            "Epoch 227/250\n",
            "243/243 [==============================] - 1s 5ms/step - loss: 0.3294 - accuracy: 0.8661\n",
            "Epoch 228/250\n",
            "243/243 [==============================] - 1s 3ms/step - loss: 0.3295 - accuracy: 0.8661\n",
            "Epoch 229/250\n",
            "243/243 [==============================] - 1s 3ms/step - loss: 0.3294 - accuracy: 0.8674\n",
            "Epoch 230/250\n",
            "243/243 [==============================] - 1s 3ms/step - loss: 0.3298 - accuracy: 0.8655\n",
            "Epoch 231/250\n",
            "243/243 [==============================] - 1s 3ms/step - loss: 0.3290 - accuracy: 0.8654\n",
            "Epoch 232/250\n",
            "243/243 [==============================] - 1s 3ms/step - loss: 0.3294 - accuracy: 0.8661\n",
            "Epoch 233/250\n",
            "243/243 [==============================] - 1s 3ms/step - loss: 0.3293 - accuracy: 0.8645\n",
            "Epoch 234/250\n",
            "243/243 [==============================] - 1s 3ms/step - loss: 0.3291 - accuracy: 0.8652\n",
            "Epoch 235/250\n",
            "243/243 [==============================] - 1s 3ms/step - loss: 0.3296 - accuracy: 0.8651\n",
            "Epoch 236/250\n",
            "243/243 [==============================] - 1s 3ms/step - loss: 0.3297 - accuracy: 0.8656\n",
            "Epoch 237/250\n",
            "243/243 [==============================] - 1s 3ms/step - loss: 0.3287 - accuracy: 0.8651\n",
            "Epoch 238/250\n",
            "243/243 [==============================] - 1s 4ms/step - loss: 0.3291 - accuracy: 0.8662\n",
            "Epoch 239/250\n",
            "243/243 [==============================] - 2s 7ms/step - loss: 0.3297 - accuracy: 0.8643\n",
            "Epoch 240/250\n",
            "243/243 [==============================] - 2s 10ms/step - loss: 0.3292 - accuracy: 0.8660\n",
            "Epoch 241/250\n",
            "243/243 [==============================] - 2s 7ms/step - loss: 0.3299 - accuracy: 0.8649\n",
            "Epoch 242/250\n",
            "243/243 [==============================] - 2s 6ms/step - loss: 0.3295 - accuracy: 0.8665\n",
            "Epoch 243/250\n",
            "243/243 [==============================] - 2s 7ms/step - loss: 0.3295 - accuracy: 0.8658\n",
            "Epoch 244/250\n",
            "243/243 [==============================] - 1s 5ms/step - loss: 0.3292 - accuracy: 0.8649\n",
            "Epoch 245/250\n",
            "243/243 [==============================] - 1s 6ms/step - loss: 0.3293 - accuracy: 0.8665\n",
            "Epoch 246/250\n",
            "243/243 [==============================] - 1s 5ms/step - loss: 0.3295 - accuracy: 0.8656\n",
            "Epoch 247/250\n",
            "243/243 [==============================] - 2s 7ms/step - loss: 0.3291 - accuracy: 0.8666\n",
            "Epoch 248/250\n",
            "243/243 [==============================] - 2s 8ms/step - loss: 0.3296 - accuracy: 0.8659\n",
            "Epoch 249/250\n",
            "243/243 [==============================] - 2s 8ms/step - loss: 0.3293 - accuracy: 0.8662\n",
            "Epoch 250/250\n",
            "243/243 [==============================] - 1s 6ms/step - loss: 0.3292 - accuracy: 0.8666\n"
          ]
        },
        {
          "output_type": "execute_result",
          "data": {
            "text/plain": [
              "<keras.src.callbacks.History at 0x7ec2b46d6d10>"
            ]
          },
          "metadata": {},
          "execution_count": 68
        }
      ]
    },
    {
      "cell_type": "markdown",
      "metadata": {
        "id": "tJj5k2MxZga3"
      },
      "source": [
        "## Part 4 - Making the predictions and evaluating the model"
      ]
    },
    {
      "cell_type": "markdown",
      "metadata": {
        "id": "84QFoqGYeXHL"
      },
      "source": [
        "### Predicting the result of a single observation"
      ]
    },
    {
      "cell_type": "markdown",
      "metadata": {
        "id": "CGRo3eacgDdC"
      },
      "source": [
        "**Homework**\n",
        "\n",
        "Use our ANN model to predict if the customer with the following informations will leave the bank:\n",
        "\n",
        "Geography: France\n",
        "\n",
        "Credit Score: 600\n",
        "\n",
        "Gender: Male\n",
        "\n",
        "Age: 40 years old\n",
        "\n",
        "Tenure: 3 years\n",
        "\n",
        "Balance: \\$ 60000\n",
        "\n",
        "Number of Products: 2\n",
        "\n",
        "Does this customer have a credit card? Yes\n",
        "\n",
        "Is this customer an Active Member: Yes\n",
        "\n",
        "Estimated Salary: \\$ 50000\n",
        "\n",
        "So, should we say goodbye to that customer?"
      ]
    },
    {
      "cell_type": "markdown",
      "metadata": {
        "id": "ZhU1LTgPg-kH"
      },
      "source": [
        "**Solution**"
      ]
    },
    {
      "cell_type": "code",
      "source": [
        "row = [[1, 0, 0, 600, 1, 40, 3, 60000, 2, 1, 1, 50000]]\n",
        "row = sc.transform(row)\n",
        "pred = ann.predict(row)\n",
        "pred = (pred > 0.5)\n",
        "print(pred[0][0])"
      ],
      "metadata": {
        "colab": {
          "base_uri": "https://localhost:8080/"
        },
        "id": "dh-YoFOs1EJC",
        "outputId": "e9d0ea9c-0776-4f03-cd80-caacf57e2fa9"
      },
      "execution_count": 87,
      "outputs": [
        {
          "output_type": "stream",
          "name": "stdout",
          "text": [
            "1/1 [==============================] - 0s 33ms/step\n",
            "False\n"
          ]
        }
      ]
    },
    {
      "cell_type": "markdown",
      "metadata": {
        "id": "wGjx94g2n7OV"
      },
      "source": [
        "Therefore, our ANN model predicts that this customer stays in the bank!\n",
        "\n",
        "**Important note 1:** Notice that the values of the features were all input in a double pair of square brackets. That's because the \"predict\" method always expects a 2D array as the format of its inputs. And putting our values into a double pair of square brackets makes the input exactly a 2D array.\n",
        "\n",
        "**Important note 2:** Notice also that the \"France\" country was not input as a string in the last column but as \"1, 0, 0\" in the first three columns. That's because of course the predict method expects the one-hot-encoded values of the state, and as we see in the first row of the matrix of features X, \"France\" was encoded as \"1, 0, 0\". And be careful to include these values in the first three columns, because the dummy variables are always created in the first columns."
      ]
    },
    {
      "cell_type": "markdown",
      "metadata": {
        "id": "u7yx47jPZt11"
      },
      "source": [
        "### Predicting the Test set results"
      ]
    },
    {
      "cell_type": "code",
      "source": [
        "y_pred = ann.predict(x_test)\n",
        "y_pred = (y_pred > 0.5)\n",
        "print(np.concatenate((y_pred.reshape(len(y_pred),1), y_test.reshape(len(y_test),1)),1))"
      ],
      "metadata": {
        "colab": {
          "base_uri": "https://localhost:8080/"
        },
        "id": "zVAIYktX6QAl",
        "outputId": "9913d1fb-1d9d-45f6-bcc1-adba711f2ec8"
      },
      "execution_count": 90,
      "outputs": [
        {
          "output_type": "stream",
          "name": "stdout",
          "text": [
            "63/63 [==============================] - 0s 2ms/step\n",
            "[[0 0]\n",
            " [0 1]\n",
            " [0 0]\n",
            " ...\n",
            " [0 0]\n",
            " [0 0]\n",
            " [0 0]]\n"
          ]
        }
      ]
    },
    {
      "cell_type": "markdown",
      "metadata": {
        "id": "o0oyfLWoaEGw"
      },
      "source": [
        "### Making the Confusion Matrix"
      ]
    },
    {
      "cell_type": "code",
      "source": [
        "from sklearn.metrics import confusion_matrix, accuracy_score, f1_score\n",
        "cm = confusion_matrix(y_test, y_pred)\n",
        "print(cm)\n",
        "ac = accuracy_score(y_test, y_pred)\n",
        "f1 = f1_score(y_test, y_pred)\n",
        "print(\"Accuracy: \",ac)\n",
        "print(\"F1 Score: \",f1)"
      ],
      "metadata": {
        "colab": {
          "base_uri": "https://localhost:8080/"
        },
        "id": "TmUwnU0x7iuR",
        "outputId": "135b656e-21f9-4b42-f502-cf619240e0be"
      },
      "execution_count": 93,
      "outputs": [
        {
          "output_type": "stream",
          "name": "stdout",
          "text": [
            "[[1523   72]\n",
            " [ 200  205]]\n",
            "Accuracy:  0.864\n",
            "F1 Score:  0.6011730205278593\n"
          ]
        }
      ]
    }
  ]
}